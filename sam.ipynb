{
  "nbformat": 4,
  "nbformat_minor": 0,
  "metadata": {
    "colab": {
      "provenance": [],
      "gpuType": "T4"
    },
    "kernelspec": {
      "name": "python3",
      "display_name": "Python 3"
    },
    "language_info": {
      "name": "python"
    },
    "accelerator": "GPU"
  },
  "cells": [
    {
      "cell_type": "code",
      "execution_count": null,
      "metadata": {
        "id": "cWD4E2D1fIyE"
      },
      "outputs": [],
      "source": [
        "using_colab = True"
      ]
    },
    {
      "cell_type": "code",
      "source": [
        "if using_colab:\n",
        "    import torch\n",
        "    import torchvision\n",
        "    print(\"PyTorch version:\", torch.__version__)\n",
        "    print(\"Torchvision version:\", torchvision.__version__)\n",
        "    print(\"CUDA is available:\", torch.cuda.is_available())\n",
        "    import sys\n",
        "    !{sys.executable} -m pip install opencv-python matplotlib\n",
        "    !{sys.executable} -m pip install 'git+https://github.com/facebookresearch/segment-anything.git'\n",
        "\n",
        "    !mkdir images\n",
        "    !wget -P images https://raw.githubusercontent.com/facebookresearch/segment-anything/main/notebooks/images/dog.jpg\n",
        "\n",
        "    !wget https://dl.fbaipublicfiles.com/segment_anything/sam_vit_h_4b8939.pth"
      ],
      "metadata": {
        "id": "8KFuGrRefRHD"
      },
      "execution_count": null,
      "outputs": []
    },
    {
      "cell_type": "code",
      "source": [
        "import numpy as np\n",
        "import matplotlib.pyplot as plt\n",
        "import cv2\n",
        "import sys\n",
        "from segment_anything import sam_model_registry, SamAutomaticMaskGenerator, SamPredictor\n",
        "import torch\n",
        "\n",
        "np.random.seed(17)\n",
        "\n",
        "\n",
        "def show_anns(anns):\n",
        "    if len(anns) == 0:\n",
        "        return\n",
        "    sorted_anns = sorted(anns, key=(lambda x: x['area']), reverse=True)\n",
        "    ax = plt.gca()\n",
        "    ax.set_autoscale_on(False)\n",
        "\n",
        "    img = np.ones((sorted_anns[0]['segmentation'].shape[0], sorted_anns[0]['segmentation'].shape[1], 4))\n",
        "    img[:,:,3] = 0\n",
        "    i=-1\n",
        "    for ann in sorted_anns:\n",
        "        i = i+1\n",
        "        m = ann['segmentation']\n",
        "        color_mask = np.concatenate([np.random.random(3), [1]])\n",
        "        img[m] = color_mask\n",
        "    ax.imshow(img)\n"
      ],
      "metadata": {
        "id": "F6LvXNLCfR-5"
      },
      "execution_count": null,
      "outputs": []
    },
    {
      "cell_type": "code",
      "source": [
        "# upload 0-original in OBJ-GSP\n",
        "image = cv2.imread('images/0-original.png')\n",
        "\n",
        "image = cv2.cvtColor(image, cv2.COLOR_BGR2RGB)\n",
        "\n",
        "sys.path.append(\"..\")\n",
        "sam_checkpoint = \"sam_vit_h_4b8939.pth\"\n",
        "model_type = \"vit_h\"\n",
        "\n",
        "device = torch.device(\"cuda\")\n",
        "sam = sam_model_registry[model_type](checkpoint=sam_checkpoint)\n",
        "sam.to(device=device)\n",
        "\n",
        "mask_generator = SamAutomaticMaskGenerator(sam,min_mask_region_area=10000)\n",
        "masks = mask_generator.generate(image)\n",
        "\n",
        "height, width, _ = image.shape\n",
        "blank_image = np.zeros((height, width, 3), np.uint8)\n",
        "\n",
        "\n",
        "plt.figure(figsize=(20, 20))\n",
        "plt.imshow(blank_image)\n",
        "\n",
        "show_anns(masks)\n",
        "plt.axis('off')\n",
        "plt.savefig('images/sam.png',bbox_inches='tight', pad_inches=0)\n",
        "\n",
        "img_resize = cv2.imread('images/sam.png')\n",
        "img_resize = cv2.resize(img_resize, (width, height))\n",
        "cv2.imwrite('images/sam.png',img_resize)\n",
        "\n",
        "\n",
        "\"\"\"\n",
        "# write contour_coords.txt\n",
        "\"\"\"\n",
        "import numpy as np\n",
        "import cv2\n",
        "\n",
        "sorted_anns = sorted(masks, key=(lambda x: x['area']), reverse=True)\n",
        "\n",
        "with open('contour_coords.txt', 'w') as file:\n",
        "    for idx, ann in enumerate(sorted_anns):\n",
        "        img = np.zeros((sorted_anns[0]['segmentation'].shape[0], sorted_anns[0]['segmentation'].shape[1], 3))\n",
        "        m = ann['segmentation']  # shape = height and weidth of input image (0-original)\n",
        "        color_mask = np.concatenate([np.random.random(3)])\n",
        "        img[m] = color_mask\n",
        "        contours, _ = cv2.findContours((img[:, :, 2] > 0).astype(np.uint8), cv2.RETR_EXTERNAL, cv2.CHAIN_APPROX_SIMPLE)\n",
        "\n",
        "        contour_coords = []\n",
        "\n",
        "        if contours:\n",
        "            main_contour = max(contours, key=cv2.contourArea)\n",
        "        else:\n",
        "            main_contour = None\n",
        "\n",
        "        if main_contour is not None:\n",
        "            for point in main_contour:\n",
        "                x, y = point[0]\n",
        "                contour_coords.append((x, y))\n",
        "\n",
        "        file.write(f\"Ann {idx + 1}:\\n\")\n",
        "        for x, y in contour_coords:\n",
        "            file.write(f\"{x}, {y}\\n\")\n"
      ],
      "metadata": {
        "id": "3Nta8-tTfuhN"
      },
      "execution_count": null,
      "outputs": []
    }
  ]
}